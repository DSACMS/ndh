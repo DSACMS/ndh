{
 "cells": [
  {
   "cell_type": "code",
   "execution_count": 93,
   "id": "41d878c4",
   "metadata": {},
   "outputs": [],
   "source": [
    "import zipfile\n",
    "import os\n",
    "from dotenv import load_dotenv\n",
    "import pandas as pd\n",
    "import datetime\n",
    "import requests\n",
    "import io\n",
    "import os"
   ]
  },
  {
   "cell_type": "code",
   "execution_count": 81,
   "id": "5bea95b6",
   "metadata": {},
   "outputs": [],
   "source": [
    "load_dotenv()\n",
    "working_dir = os.getenv('WORKING_DIR')"
   ]
  },
  {
   "cell_type": "code",
   "execution_count": 87,
   "id": "d6636573",
   "metadata": {},
   "outputs": [],
   "source": [
    "current_date = datetime.datetime.now()\n",
    "current_month = current_date.strftime(\"%B\")\n",
    "current_year = current_date.year\n",
    "csv_version = f'{current_month}_{current_year}_V2'"
   ]
  },
  {
   "cell_type": "code",
   "execution_count": 92,
   "id": "f21a046e",
   "metadata": {},
   "outputs": [],
   "source": [
    "zipData = requests.get(f'https://download.cms.gov/nppes/NPPES_Data_Dissemination_{csv_version}.zip').content\n",
    "with zipfile.ZipFile(io.BytesIO(zipData), 'r') as zip_file:\n",
    "    zip_file.extractall(working_dir)"
   ]
  },
  {
   "cell_type": "code",
   "execution_count": null,
   "id": "2f7e6b0a",
   "metadata": {},
   "outputs": [],
   "source": [
    "for chunk in pd.read_csv(os.path.join(working_dir, 'npidata_pfile_20050523-20250713.csv'), chunksize = 100000):\n",
    "    npi_columns = ['npi','entity_type_code','replacement_npi','enumeration_date','last_update_date','deactivation_reason_code','deactivation_date','reactivation_date','certification_date']\n",
    "    individual_columns = ['provider_last_name_legal_name', 'provider_first_name', 'provider_middle_name', 'provider_name_prefix_text', 'provider_nme_suffix_text']\n",
    "    individual_columns = "
   ]
  }
 ],
 "metadata": {
  "kernelspec": {
   "display_name": "Python 3",
   "language": "python",
   "name": "python3"
  },
  "language_info": {
   "codemirror_mode": {
    "name": "ipython",
    "version": 3
   },
   "file_extension": ".py",
   "mimetype": "text/x-python",
   "name": "python",
   "nbconvert_exporter": "python",
   "pygments_lexer": "ipython3",
   "version": "3.11.0"
  }
 },
 "nbformat": 4,
 "nbformat_minor": 5
}
